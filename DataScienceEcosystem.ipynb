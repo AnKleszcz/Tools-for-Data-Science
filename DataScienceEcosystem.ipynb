{
  "cells": [
    {
      "cell_type": "markdown",
      "metadata": {},
      "source": [
        "# Data Science Tools and Ecosystem"
      ]
    },
    {
      "cell_type": "markdown",
      "metadata": {},
      "source": [
        "In this notebook, Data Science Tools and Ecosystem are summarized."
      ]
    },
    {
      "cell_type": "markdown",
      "metadata": {},
      "source": [
        "**Some of the popular languages that Data Scientists use are:**\n",
        "1. Python\n",
        "2. SQL\n",
        "3. R\n",
        "4. Java"
      ]
    },
    {
      "cell_type": "markdown",
      "metadata": {},
      "source": [
        "**Some of the commonly used libraries used by Data Scientists include:**\n",
        "1. Pandas\n",
        "2. Keras\n",
        "3. NumPy\n",
        "4. TensorFlow"
      ]
    },
    {
      "cell_type": "markdown",
      "metadata": {},
      "source": [
        "|Data Science Tools|\n",
        "|---|\n",
        "|Jupyter Notebook|\n",
        "|RStudio|\n",
        "|Apache Spark|"
      ]
    },
    {
      "cell_type": "markdown",
      "metadata": {},
      "source": [
        "### Below are a few examples of evaluating arithmetic expressions in Python"
      ]
    },
    {
      "cell_type": "code",
      "execution_count": 5,
      "metadata": {
        "trusted": true
      },
      "outputs": [
        {
          "data": {
            "text/plain": [
              "17"
            ]
          },
          "execution_count": 5,
          "metadata": {},
          "output_type": "execute_result"
        }
      ],
      "source": [
        "#  This a simple arithmetic expression to mutiply then add integers\n",
        "(3*4)+5"
      ]
    },
    {
      "cell_type": "code",
      "execution_count": 6,
      "metadata": {
        "trusted": true
      },
      "outputs": [
        {
          "data": {
            "text/plain": [
              "3.3333333333333335"
            ]
          },
          "execution_count": 6,
          "metadata": {},
          "output_type": "execute_result"
        }
      ],
      "source": [
        "# This will convert 200 minutes to hours by diving by 60\n",
        "200/60"
      ]
    },
    {
      "attachments": {},
      "cell_type": "markdown",
      "metadata": {},
      "source": [
        "**Objectives:** \n",
        "\n",
        "* Add comments to code cells\n",
        "* Create markdown cells\n",
        "* Add ordered and unordered list to markdown cells\n",
        "* Format conten markdown with heading styles"
      ]
    },
    {
      "cell_type": "markdown",
      "metadata": {},
      "source": [
        "## Author\n",
        "name : Anna Kl"
      ]
    },
    {
      "cell_type": "code",
      "execution_count": null,
      "metadata": {},
      "outputs": [],
      "source": []
    }
  ],
  "metadata": {
    "kernelspec": {
      "display_name": "Python (Pyodide)",
      "language": "python",
      "name": "python"
    },
    "language_info": {
      "codemirror_mode": {
        "name": "python",
        "version": 3
      },
      "file_extension": ".py",
      "mimetype": "text/x-python",
      "name": "python",
      "nbconvert_exporter": "python",
      "pygments_lexer": "ipython3",
      "version": "3.8"
    }
  },
  "nbformat": 4,
  "nbformat_minor": 4
}
